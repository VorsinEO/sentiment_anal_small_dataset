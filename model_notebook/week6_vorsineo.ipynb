{
 "cells": [
  {
   "cell_type": "code",
   "execution_count": 1,
   "metadata": {},
   "outputs": [],
   "source": [
    "import pandas as pd\n",
    "import numpy as np\n",
    "#для парсинга сайта\n",
    "import requests\n",
    "import bs4\n",
    "#для препроцессинга текста\n",
    "from pymystem3 import Mystem\n",
    "from string import punctuation\n",
    "#для векторизация текста\n",
    "from sklearn.feature_extraction.text import CountVectorizer\n",
    "#для создания модели классификации\n",
    "from sklearn.linear_model import LogisticRegression\n",
    "#для 7 недели выгрузка векторизатора и модели через pickle\n",
    "import pickle"
   ]
  },
  {
   "cell_type": "markdown",
   "metadata": {},
   "source": [
    "### 1. Загрузим тестовый датасет"
   ]
  },
  {
   "cell_type": "code",
   "execution_count": 2,
   "metadata": {},
   "outputs": [],
   "source": [
    "# считаем содержимое файла\n",
    "with open('test.csv', 'r') as f:\n",
    "   s =(f.read())\n",
    "    "
   ]
  },
  {
   "cell_type": "code",
   "execution_count": 3,
   "metadata": {},
   "outputs": [],
   "source": [
    "# разобьем на части с помощью разделителя в нестандартной конфигурации\n",
    "s = s.split('</review>\\n\\n<review>')"
   ]
  },
  {
   "cell_type": "code",
   "execution_count": 4,
   "metadata": {},
   "outputs": [],
   "source": [
    "# для комфорта линчого помещаю в датафрейм\n",
    "df = pd.DataFrame(s, columns=['review'])"
   ]
  },
  {
   "cell_type": "code",
   "execution_count": 5,
   "metadata": {},
   "outputs": [],
   "source": [
    "# удалю остатки тегов, символы переноса строки и лишние пробелы - легкий препроцессинг тестовый выборки\n",
    "df.review = df.review.str.replace('<review>','').str.replace('</review>','').str.replace('\\n',' ').str.replace('\\s+', ' ', regex=True).str.lower()"
   ]
  },
  {
   "cell_type": "code",
   "execution_count": 6,
   "metadata": {},
   "outputs": [
    {
     "data": {
      "text/plain": [
       "'ужасно слабый аккумулятор, это основной минус этого аппарата, разряжается буквально за пару часов при включенном wifi и на макс подсветке, например если играть или смотреть видео, следовательно использовать можно только если есть постоянная возможность подзарядиться. качества звука через динамик далеко не на высоте.наблюдаются незначительные тормоза в некоторых приложениях и вообще в меню. очень мало встроенной памяти, а приложения устанавливаются именно туда, с этим связанны неудобства - нужно постоянно переносить их на карту памяти. несколько неудобно что нету отдельной кнопки для фото. подумываю купить батарею большей емкость мб что нибудь измениться. '"
      ]
     },
     "execution_count": 6,
     "metadata": {},
     "output_type": "execute_result"
    }
   ],
   "source": [
    "#тестовый датасет подготовлен и не содержит тегов и символа переноса строки\n",
    "df.review[0]"
   ]
  },
  {
   "cell_type": "markdown",
   "metadata": {},
   "source": [
    "### 2. Подготовим обучающую выборку с помощью request и BS4"
   ]
  },
  {
   "cell_type": "code",
   "execution_count": 7,
   "metadata": {},
   "outputs": [],
   "source": [
    "#версия подготовки со Scrapy обучающей выборки в моей реализации представляет собой папку с кучей файлов и решил для тетрадки остановиться на более простых и понятных request+BS4"
   ]
  },
  {
   "cell_type": "markdown",
   "metadata": {},
   "source": [
    "#### 2.1 Сначала подготовлю список страниц, которые буду парсить - каждая страница это набор отзывов по телефону"
   ]
  },
  {
   "cell_type": "code",
   "execution_count": 8,
   "metadata": {},
   "outputs": [],
   "source": [
    "# нагуглил сайт, в котором есть отзывы по телефонам с разметкой\n",
    "req = requests.get('https://peredpokupkoy.ru/category/elektronika/telefony/mobilnye-telefony/')"
   ]
  },
  {
   "cell_type": "code",
   "execution_count": 9,
   "metadata": {},
   "outputs": [],
   "source": [
    "soup = bs4.BeautifulSoup(req.text, 'lxml')"
   ]
  },
  {
   "cell_type": "code",
   "execution_count": 10,
   "metadata": {},
   "outputs": [],
   "source": [
    "# выгружу страницы с отзывами с первой страницы\n",
    "pages = list()\n",
    "for el in soup.find('div', attrs={'class':'category-products'}).findAll('a'):\n",
    "    pages.append(el.get('href'))"
   ]
  },
  {
   "cell_type": "code",
   "execution_count": 11,
   "metadata": {},
   "outputs": [],
   "source": [
    "#вытащим все страницы с отзывами через пагинацию - диапозон 2-217 взят из личного осмотра пагинация сайта\n",
    "for i in range(2,217):\n",
    "    req = requests.get(f'https://peredpokupkoy.ru/category/elektronika/telefony/mobilnye-telefony/page/{i}/')\n",
    "    soup = bs4.BeautifulSoup(req.text, 'lxml')\n",
    "    for el in soup.find('div', attrs={'class':'category-products'}).findAll('a'):\n",
    "        pages.append(el.get('href'))"
   ]
  },
  {
   "cell_type": "code",
   "execution_count": 12,
   "metadata": {},
   "outputs": [],
   "source": [
    "# удалю дупликаты\n",
    "pages = set(pages)"
   ]
  },
  {
   "cell_type": "code",
   "execution_count": 13,
   "metadata": {},
   "outputs": [],
   "source": [
    "# и обратно в список для удобства\n",
    "pages = list(pages)"
   ]
  },
  {
   "cell_type": "markdown",
   "metadata": {},
   "source": [
    "#### 2.2 Получу непосредственно отзывы. "
   ]
  },
  {
   "cell_type": "code",
   "execution_count": 14,
   "metadata": {},
   "outputs": [],
   "source": [
    "#теперь у меня есть 5000+ страниц с отзывами. Каждая страница содержит отзывы на конкретную модель телефона"
   ]
  },
  {
   "cell_type": "code",
   "execution_count": null,
   "metadata": {},
   "outputs": [],
   "source": []
  },
  {
   "cell_type": "code",
   "execution_count": 15,
   "metadata": {},
   "outputs": [],
   "source": [
    "# функция, которая собирает отзывы со страницы\n",
    "def get_reviews(pages):\n",
    "    # создам словарь куда буду добавлять отзывы со страниц page in pages\n",
    "    vyborka = {'phone':[], 'dignities':[], 'limitations':[], 'comments':[], 'rating':[]}\n",
    "    for page in pages:\n",
    "        req = requests.get('https:' + page)\n",
    "        soup = bs4.BeautifulSoup(req.text, 'lxml')\n",
    "        # добавляем рейтинги\n",
    "        for el in soup.findAll('meta', attrs={'itemprop':'ratingValue'}):\n",
    "            vyborka['rating'].append(el.get('content'))\n",
    "            #заоодно заполним данные по телефону, тут мы отталкиваемся от того, рейтинг есть во всех отзывах\n",
    "            vyborka['phone'].append(req.url[32:].replace('/',''))\n",
    "        \n",
    "        for el in soup.findAll('div', attrs={'class':'cm_single_comment_content'}):\n",
    "            #добавляем достоинства\n",
    "            if el.find('div', attrs={'class':'cm_single_comment_dignity_ins'})==None:\n",
    "                vyborka['dignities'].append('')\n",
    "            else:\n",
    "                vyborka['dignities'].append(el.find('div', attrs={'class':'cm_single_comment_dignity_ins'}).text)\n",
    "            #добавляем недостатки\n",
    "            if el.find('div', attrs={'class':'cm_single_comment_limitations_ins'})==None:\n",
    "                vyborka['limitations'].append('')\n",
    "            else:\n",
    "                vyborka['limitations'].append(el.find('div', attrs={'class':'cm_single_comment_limitations_ins'}).text)\n",
    "            #добавляем комментарий/вывод\n",
    "            if el.find('div', attrs={'class':'cm_single_comment_message_ins'})==None:\n",
    "                vyborka['comments'].append('')\n",
    "            else:\n",
    "                vyborka['comments'].append(el.find('div', attrs={'class':'cm_single_comment_message_ins'}).text)       \n",
    "    return vyborka"
   ]
  },
  {
   "cell_type": "code",
   "execution_count": 140,
   "metadata": {},
   "outputs": [],
   "source": [
    "# опытным путем определил чисто страниц для парсинга так, чтобы на 1 класс было не меньше 5000 примеров в нашей базе для обучения\n",
    "# Эта ячейка собирает отзывы с 900 страниц и это без использования параллельных потоков - ДОЛГО, заварите чаек\n",
    "res = get_reviews(pages[:900])"
   ]
  },
  {
   "cell_type": "code",
   "execution_count": 142,
   "metadata": {},
   "outputs": [],
   "source": [
    "#результат помещаю в датафрейм\n",
    "df_vyb=pd.DataFrame(res)"
   ]
  },
  {
   "cell_type": "code",
   "execution_count": 144,
   "metadata": {},
   "outputs": [],
   "source": [
    "#df_vyb.to_csv('train_dirt.csv')"
   ]
  },
  {
   "cell_type": "code",
   "execution_count": 16,
   "metadata": {},
   "outputs": [],
   "source": [
    "df_vyb = pd.read_csv('train_dirt.csv', index_col=0)"
   ]
  },
  {
   "cell_type": "code",
   "execution_count": 17,
   "metadata": {},
   "outputs": [
    {
     "data": {
      "text/plain": [
       "(19703, 5)"
      ]
     },
     "execution_count": 17,
     "metadata": {},
     "output_type": "execute_result"
    }
   ],
   "source": [
    "df_vyb.shape"
   ]
  },
  {
   "cell_type": "code",
   "execution_count": 18,
   "metadata": {},
   "outputs": [
    {
     "data": {
      "text/html": [
       "<div>\n",
       "<style scoped>\n",
       "    .dataframe tbody tr th:only-of-type {\n",
       "        vertical-align: middle;\n",
       "    }\n",
       "\n",
       "    .dataframe tbody tr th {\n",
       "        vertical-align: top;\n",
       "    }\n",
       "\n",
       "    .dataframe thead th {\n",
       "        text-align: right;\n",
       "    }\n",
       "</style>\n",
       "<table border=\"1\" class=\"dataframe\">\n",
       "  <thead>\n",
       "    <tr style=\"text-align: right;\">\n",
       "      <th></th>\n",
       "      <th>phone</th>\n",
       "      <th>dignities</th>\n",
       "      <th>limitations</th>\n",
       "      <th>comments</th>\n",
       "      <th>rating</th>\n",
       "    </tr>\n",
       "  </thead>\n",
       "  <tbody>\n",
       "    <tr>\n",
       "      <th>0</th>\n",
       "      <td>vertex-impress-mars-1713741426</td>\n",
       "      <td>Большой экран. Хорошая матрица. Аккумулятор то...</td>\n",
       "      <td>NaN</td>\n",
       "      <td>Идеальный смартфон до 100$. Много перебрал пер...</td>\n",
       "      <td>5</td>\n",
       "    </tr>\n",
       "    <tr>\n",
       "      <th>1</th>\n",
       "      <td>vertex-impress-mars-1713741426</td>\n",
       "      <td>все норм</td>\n",
       "      <td>при разговоре постоянный шум микрофона</td>\n",
       "      <td>NaN</td>\n",
       "      <td>3</td>\n",
       "    </tr>\n",
       "    <tr>\n",
       "      <th>2</th>\n",
       "      <td>vertex-impress-mars-1713741426</td>\n",
       "      <td>Цена, камера, 2 симки</td>\n",
       "      <td>Глючит всё, что только может глючить. Сенсорны...</td>\n",
       "      <td>Не связывайтесь с киайфонами!</td>\n",
       "      <td>1</td>\n",
       "    </tr>\n",
       "    <tr>\n",
       "      <th>3</th>\n",
       "      <td>vertex-impress-mars-1713741426</td>\n",
       "      <td>Экран, скорость, качество сборки, дизайн.</td>\n",
       "      <td>Пока  не выявлено</td>\n",
       "      <td>В общем телефон достойный,большой яркий экран,...</td>\n",
       "      <td>5</td>\n",
       "    </tr>\n",
       "    <tr>\n",
       "      <th>4</th>\n",
       "      <td>rover-pc-c6</td>\n",
       "      <td>полноценный коммуникатор за относительно небол...</td>\n",
       "      <td>аккумулятор очень слабый, китайский, в общем д...</td>\n",
       "      <td>В общем неплохая штуковина, с поправкой на акк...</td>\n",
       "      <td>3</td>\n",
       "    </tr>\n",
       "  </tbody>\n",
       "</table>\n",
       "</div>"
      ],
      "text/plain": [
       "                            phone  \\\n",
       "0  vertex-impress-mars-1713741426   \n",
       "1  vertex-impress-mars-1713741426   \n",
       "2  vertex-impress-mars-1713741426   \n",
       "3  vertex-impress-mars-1713741426   \n",
       "4                     rover-pc-c6   \n",
       "\n",
       "                                           dignities  \\\n",
       "0  Большой экран. Хорошая матрица. Аккумулятор то...   \n",
       "1                                           все норм   \n",
       "2                              Цена, камера, 2 симки   \n",
       "3          Экран, скорость, качество сборки, дизайн.   \n",
       "4  полноценный коммуникатор за относительно небол...   \n",
       "\n",
       "                                         limitations  \\\n",
       "0                                                NaN   \n",
       "1            при разговоре постоянный шум микрофона    \n",
       "2  Глючит всё, что только может глючить. Сенсорны...   \n",
       "3                                  Пока  не выявлено   \n",
       "4  аккумулятор очень слабый, китайский, в общем д...   \n",
       "\n",
       "                                            comments  rating  \n",
       "0  Идеальный смартфон до 100$. Много перебрал пер...       5  \n",
       "1                                                NaN       3  \n",
       "2                      Не связывайтесь с киайфонами!       1  \n",
       "3  В общем телефон достойный,большой яркий экран,...       5  \n",
       "4  В общем неплохая штуковина, с поправкой на акк...       3  "
      ]
     },
     "execution_count": 18,
     "metadata": {},
     "output_type": "execute_result"
    }
   ],
   "source": [
    "df_vyb.head()"
   ]
  },
  {
   "cell_type": "code",
   "execution_count": 19,
   "metadata": {},
   "outputs": [],
   "source": [
    "#cхлопну отзыв состоящий из трех частей Достоинства, Недостатки и Вывод в одну длинную строку\n",
    "df_vyb['review'] = df_vyb.dignities.astype('str').str.replace('nan','').str.lower()+' '+df_vyb.limitations.astype('str').str.replace('nan','').str.lower()+' '+df_vyb.comments.astype('str').str.replace('NaN','').str.lower()"
   ]
  },
  {
   "cell_type": "code",
   "execution_count": 20,
   "metadata": {},
   "outputs": [],
   "source": [
    "# у нас должно быть два класса, а тут 5 классов - выполню маппинг для сокращения классов\n",
    "df_vyb['rating_binar'] = df_vyb['rating'].map({1:'neg', 2:'neg', 3:'neg',4:'pos',5:'pos'})"
   ]
  },
  {
   "cell_type": "code",
   "execution_count": 21,
   "metadata": {},
   "outputs": [],
   "source": [
    "# моделям обычно проще работать с числами - еще маппинг\n",
    "df_vyb['y'] = df_vyb['rating_binar'].map({'neg':0,'pos':1})"
   ]
  },
  {
   "cell_type": "code",
   "execution_count": 22,
   "metadata": {},
   "outputs": [
    {
     "data": {
      "text/plain": [
       "1    13777\n",
       "0     5926\n",
       "Name: y, dtype: int64"
      ]
     },
     "execution_count": 22,
     "metadata": {},
     "output_type": "execute_result"
    }
   ],
   "source": [
    "#колиество объекто для каждого класса больше 5000, значит выборки достаточно для baseline моделирования\n",
    "df_vyb['y'].value_counts()"
   ]
  },
  {
   "cell_type": "code",
   "execution_count": 23,
   "metadata": {
    "scrolled": true
   },
   "outputs": [
    {
     "data": {
      "text/plain": [
       "'большой экран. хорошая матрица. аккумулятор тоже большой. 13мп камера делает довольно неплохие снимки. быстрый интернет через 4g хорошо пашет gps  идеальный смартфон до 100$. много перебрал перед покупкой, решил довериться неизвестной мне до этого фирме, не пожалел.'"
      ]
     },
     "execution_count": 23,
     "metadata": {},
     "output_type": "execute_result"
    }
   ],
   "source": [
    "# выведу один обзор из обучающей выборки - видно, что нужен препроцессинг для обучения - много разных форм слов\n",
    "df_vyb['review'][0]"
   ]
  },
  {
   "cell_type": "markdown",
   "metadata": {},
   "source": [
    "### 3. Препроцессинг"
   ]
  },
  {
   "cell_type": "markdown",
   "metadata": {},
   "source": [
    "как препроцессить русский текст в 2020:\n",
    "* https://habr.com/ru/post/503420/\n",
    "* https://www.kaggle.com/alxmamaev/how-to-easy-preprocess-russian-text"
   ]
  },
  {
   "cell_type": "code",
   "execution_count": 24,
   "metadata": {},
   "outputs": [
    {
     "name": "stderr",
     "output_type": "stream",
     "text": [
      "Installing mystem to /Users/ltorrick/.local/bin/mystem from http://download.cdn.yandex.net/mystem/mystem-3.1-macosx.tar.gz\n"
     ]
    }
   ],
   "source": [
    "#Лемматейзер\n",
    "mystem = Mystem() "
   ]
  },
  {
   "cell_type": "code",
   "execution_count": 25,
   "metadata": {},
   "outputs": [],
   "source": [
    "#функция препроцессинга текста. Не стал использовать стопслова, для сентимент анализа не исключал стопслова\n",
    "#-это ухудшает часто качество в подобных классификациях, тут на линейной моделе тоже мешали\n",
    "def preprocess_text_wo_stop(text):\n",
    "    tokens = mystem.lemmatize(text.lower())\n",
    "    tokens = [token for token in tokens if token != \" \" \\\n",
    "              and token.strip() not in punctuation]\n",
    "    \n",
    "    text = \" \".join(tokens)\n",
    "    \n",
    "    return text"
   ]
  },
  {
   "cell_type": "code",
   "execution_count": 26,
   "metadata": {},
   "outputs": [
    {
     "data": {
      "text/plain": [
       "'большой экран хороший матрица аккумулятор тоже большой 13мп камера делать довольно неплохой снимок быстрый интернет через 4g хорошо пахать gps идеальный смартфон до 100 много перебирать перед покупка решать доверяться неизвестный я до это фирма не пожалеть'"
      ]
     },
     "execution_count": 26,
     "metadata": {},
     "output_type": "execute_result"
    }
   ],
   "source": [
    "# пробую на 1 отзыве - шикарно\n",
    "preprocess_text_wo_stop(df_vyb['review'][0])"
   ]
  },
  {
   "cell_type": "code",
   "execution_count": 27,
   "metadata": {},
   "outputs": [
    {
     "data": {
      "text/plain": [
       "'большой экран. хорошая матрица. аккумулятор тоже большой. 13мп камера делает довольно неплохие снимки. быстрый интернет через 4g хорошо пашет gps  идеальный смартфон до 100$. много перебрал перед покупкой, решил довериться неизвестной мне до этого фирме, не пожалел.'"
      ]
     },
     "execution_count": 27,
     "metadata": {},
     "output_type": "execute_result"
    }
   ],
   "source": [
    "# было до\n",
    "df_vyb['review'][0]"
   ]
  },
  {
   "cell_type": "code",
   "execution_count": 28,
   "metadata": {},
   "outputs": [],
   "source": [
    "#препроцессю всю обучающую выборку - это занимает некоторое время\n",
    "df_vyb['review_pr_wo_stop'] = df_vyb['review'].apply(preprocess_text_wo_stop)"
   ]
  },
  {
   "cell_type": "markdown",
   "metadata": {},
   "source": [
    "### 4. Векторизация и обучение модели классификации"
   ]
  },
  {
   "cell_type": "code",
   "execution_count": 29,
   "metadata": {},
   "outputs": [],
   "source": [
    "# ввожу векторизатор\n",
    "bow_vectorizer = CountVectorizer(ngram_range=(1,2))"
   ]
  },
  {
   "cell_type": "code",
   "execution_count": 30,
   "metadata": {},
   "outputs": [],
   "source": [
    "# векторизую препроцешенный текст\n",
    "X_train_wo_stop = bow_vectorizer.fit_transform(df_vyb['review_pr_wo_stop'] )"
   ]
  },
  {
   "cell_type": "code",
   "execution_count": 31,
   "metadata": {},
   "outputs": [],
   "source": [
    "y_train = df_vyb.y.values"
   ]
  },
  {
   "cell_type": "code",
   "execution_count": 32,
   "metadata": {},
   "outputs": [],
   "source": [
    "#sparce матрица объемная и разряженная, чтобы lr не ругался увеличу число итераций\n",
    "#пробовал SVC и Байес из scklear, на таком обучающем множестве они похуже справлялись, \n",
    "#а LR без серьезных инвестиций времени в подбор параметров выдал на CV необходимое качество 0.85+ при 0.97 на тесте (что связываю с тем,\n",
    "#что возможно на том же сайте я ненамеренно могу получить и тестовые данные)\n",
    "lr = LogisticRegression(max_iter=10000)"
   ]
  },
  {
   "cell_type": "code",
   "execution_count": 33,
   "metadata": {},
   "outputs": [
    {
     "data": {
      "text/plain": [
       "LogisticRegression(max_iter=10000)"
      ]
     },
     "execution_count": 33,
     "metadata": {},
     "output_type": "execute_result"
    }
   ],
   "source": [
    "#займет некоторое время\n",
    "lr.fit(X_train_wo_stop, y_train)"
   ]
  },
  {
   "cell_type": "markdown",
   "metadata": {},
   "source": [
    "### 5. Классификация тестовой выборки"
   ]
  },
  {
   "cell_type": "code",
   "execution_count": 34,
   "metadata": {},
   "outputs": [],
   "source": [
    "df['review_pr'] = df['review'].apply(preprocess_text_wo_stop)"
   ]
  },
  {
   "cell_type": "code",
   "execution_count": 35,
   "metadata": {},
   "outputs": [],
   "source": [
    "res = lr.predict(bow_vectorizer.transform(df['review_pr'] ))"
   ]
  },
  {
   "cell_type": "code",
   "execution_count": 36,
   "metadata": {},
   "outputs": [],
   "source": [
    "df['pred_digit'] = res"
   ]
  },
  {
   "cell_type": "code",
   "execution_count": 37,
   "metadata": {},
   "outputs": [],
   "source": [
    "df['y']=df['pred_digit'].map({0:'neg', 1:'pos'})"
   ]
  },
  {
   "cell_type": "code",
   "execution_count": 38,
   "metadata": {},
   "outputs": [],
   "source": [
    "df.index.name = 'Id'"
   ]
  },
  {
   "cell_type": "code",
   "execution_count": 42,
   "metadata": {},
   "outputs": [],
   "source": [
    "df[['y']].to_csv('first_try.csv')"
   ]
  },
  {
   "cell_type": "markdown",
   "metadata": {},
   "source": [
    "### 6. Сделаем пару pickle для недели 7"
   ]
  },
  {
   "cell_type": "code",
   "execution_count": 55,
   "metadata": {},
   "outputs": [],
   "source": [
    "#выгрузим векторайзер\n",
    "pickle.dump(bow_vectorizer,open('bow_vectorizer.pickle','wb'))\n"
   ]
  },
  {
   "cell_type": "code",
   "execution_count": 56,
   "metadata": {},
   "outputs": [],
   "source": [
    "# выгрузим модель\n",
    "pickle.dump(lr,open('model.pickle','wb'))"
   ]
  },
  {
   "cell_type": "code",
   "execution_count": null,
   "metadata": {},
   "outputs": [],
   "source": []
  }
 ],
 "metadata": {
  "kernelspec": {
   "display_name": "Python 3",
   "language": "python",
   "name": "python3"
  },
  "language_info": {
   "codemirror_mode": {
    "name": "ipython",
    "version": 3
   },
   "file_extension": ".py",
   "mimetype": "text/x-python",
   "name": "python",
   "nbconvert_exporter": "python",
   "pygments_lexer": "ipython3",
   "version": "3.7.3"
  }
 },
 "nbformat": 4,
 "nbformat_minor": 4
}
